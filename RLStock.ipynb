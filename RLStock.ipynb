{
  "nbformat": 4,
  "nbformat_minor": 0,
  "metadata": {
    "colab": {
      "name": "RLStock.ipynb",
      "provenance": [],
      "collapsed_sections": [],
      "include_colab_link": true
    },
    "kernelspec": {
      "name": "python3",
      "display_name": "Python 3"
    }
  },
  "cells": [
    {
      "cell_type": "markdown",
      "metadata": {
        "id": "view-in-github",
        "colab_type": "text"
      },
      "source": [
        "<a href=\"https://colab.research.google.com/github/Camouflage10/RL-stocks/blob/main/RLStock.ipynb\" target=\"_parent\"><img src=\"https://colab.research.google.com/assets/colab-badge.svg\" alt=\"Open In Colab\"/></a>"
      ]
    },
    {
      "cell_type": "code",
      "metadata": {
        "id": "NmepI2Q0XsYF",
        "colab": {
          "base_uri": "https://localhost:8080/"
        },
        "outputId": "0d120c05-207e-4f59-cb07-0ecbfffc510d"
      },
      "source": [
        "import pandas as pd\n",
        "import pandas_datareader as web\n",
        "import numpy as np\n",
        "from sklearn.preprocessing import MinMaxScaler\n",
        "from keras.models import Sequential\n",
        "from keras.layers import Dense, LSTM, Dropout\n",
        "import matplotlib.pyplot as plt\n",
        "plt.style.use('fivethirtyeight')\n",
        "!pip install yfinance\n",
        "import yfinance as yf\n",
        "import tensorflow as tf\n",
        "import datetime\n",
        "import math\n",
        "import random\n",
        "#global\n",
        "n=60\n",
        "lookAhead=24"
      ],
      "execution_count": null,
      "outputs": [
        {
          "output_type": "stream",
          "name": "stdout",
          "text": [
            "Requirement already satisfied: yfinance in /usr/local/lib/python3.7/dist-packages (0.1.70)\n",
            "Requirement already satisfied: lxml>=4.5.1 in /usr/local/lib/python3.7/dist-packages (from yfinance) (4.8.0)\n",
            "Requirement already satisfied: multitasking>=0.0.7 in /usr/local/lib/python3.7/dist-packages (from yfinance) (0.0.10)\n",
            "Requirement already satisfied: requests>=2.26 in /usr/local/lib/python3.7/dist-packages (from yfinance) (2.27.1)\n",
            "Requirement already satisfied: pandas>=0.24.0 in /usr/local/lib/python3.7/dist-packages (from yfinance) (1.3.5)\n",
            "Requirement already satisfied: numpy>=1.15 in /usr/local/lib/python3.7/dist-packages (from yfinance) (1.21.6)\n",
            "Requirement already satisfied: pytz>=2017.3 in /usr/local/lib/python3.7/dist-packages (from pandas>=0.24.0->yfinance) (2022.1)\n",
            "Requirement already satisfied: python-dateutil>=2.7.3 in /usr/local/lib/python3.7/dist-packages (from pandas>=0.24.0->yfinance) (2.8.2)\n",
            "Requirement already satisfied: six>=1.5 in /usr/local/lib/python3.7/dist-packages (from python-dateutil>=2.7.3->pandas>=0.24.0->yfinance) (1.15.0)\n",
            "Requirement already satisfied: charset-normalizer~=2.0.0 in /usr/local/lib/python3.7/dist-packages (from requests>=2.26->yfinance) (2.0.12)\n",
            "Requirement already satisfied: certifi>=2017.4.17 in /usr/local/lib/python3.7/dist-packages (from requests>=2.26->yfinance) (2021.10.8)\n",
            "Requirement already satisfied: idna<4,>=2.5 in /usr/local/lib/python3.7/dist-packages (from requests>=2.26->yfinance) (2.10)\n",
            "Requirement already satisfied: urllib3<1.27,>=1.21.1 in /usr/local/lib/python3.7/dist-packages (from requests>=2.26->yfinance) (1.24.3)\n"
          ]
        }
      ]
    },
    {
      "cell_type": "markdown",
      "source": [
        "1. set up game given 60 values guess buy or sell\n",
        "2. graphing each step and wait for answer\n",
        "3. setup a NN that catagorizes the state\n",
        "4. setup RL model with the NN output plugiung in the states\n",
        "5. optimize models"
      ],
      "metadata": {
        "id": "vCrnzZSCqWYl"
      }
    },
    {
      "cell_type": "code",
      "source": [
        "def getData(code, period, interval):\n",
        "  df=yf.download(code,period=period,interval=interval)\n",
        "  return df\n",
        "data=getData(\"AAPL\",'3mo','1h')\n",
        "#normalize data between min max\n",
        "data.head"
      ],
      "metadata": {
        "colab": {
          "base_uri": "https://localhost:8080/"
        },
        "id": "W2cAQnsH7oDP",
        "outputId": "2fa57bf2-eb90-46e2-cb3c-820c6e116076"
      },
      "execution_count": null,
      "outputs": [
        {
          "output_type": "stream",
          "name": "stdout",
          "text": [
            "\r[*********************100%***********************]  1 of 1 completed\n"
          ]
        },
        {
          "output_type": "execute_result",
          "data": {
            "text/plain": [
              "<bound method NDFrame.head of                                  Open        High         Low       Close  \\\n",
              "2022-01-31 09:30:00-05:00  170.160004  173.619995  169.509995  172.619995   \n",
              "2022-01-31 10:30:00-05:00  172.610001  173.360001  172.270004  172.570007   \n",
              "2022-01-31 11:30:00-05:00  172.565002  173.580002  172.350006  172.634995   \n",
              "2022-01-31 12:30:00-05:00  172.630005  173.087402  172.429993  173.029999   \n",
              "2022-01-31 13:30:00-05:00  173.035004  173.740005  172.800003  173.619995   \n",
              "...                               ...         ...         ...         ...   \n",
              "2022-04-29 12:30:00-04:00  160.389999  160.720001  159.589996  160.100006   \n",
              "2022-04-29 13:30:00-04:00  160.104996  160.729904  159.600006  159.970001   \n",
              "2022-04-29 14:30:00-04:00  159.960007  160.164993  158.710007  158.750000   \n",
              "2022-04-29 15:30:00-04:00  158.740005  159.225006  157.250000  157.649994   \n",
              "2022-04-29 16:00:00-04:00  157.649994  157.649994  157.649994  157.649994   \n",
              "\n",
              "                            Adj Close    Volume  \n",
              "2022-01-31 09:30:00-05:00  172.619995  32319910  \n",
              "2022-01-31 10:30:00-05:00  172.570007  13326729  \n",
              "2022-01-31 11:30:00-05:00  172.634995  10083567  \n",
              "2022-01-31 12:30:00-05:00  173.029999   7643318  \n",
              "2022-01-31 13:30:00-05:00  173.619995   8222485  \n",
              "...                               ...       ...  \n",
              "2022-04-29 12:30:00-04:00  160.100006   9925128  \n",
              "2022-04-29 13:30:00-04:00  159.970001   8618515  \n",
              "2022-04-29 14:30:00-04:00  158.750000  12979685  \n",
              "2022-04-29 15:30:00-04:00  157.649994  17185837  \n",
              "2022-04-29 16:00:00-04:00  157.649994         0  \n",
              "\n",
              "[442 rows x 6 columns]>"
            ]
          },
          "metadata": {},
          "execution_count": 41
        }
      ]
    },
    {
      "cell_type": "markdown",
      "source": [
        "#1.linear reg the next n values and in the y=mx+b the m will be the state\n",
        "#2. research different shapes and the states are defined as those shapes\n"
      ],
      "metadata": {
        "id": "L7spBIWGpKyd"
      }
    },
    {
      "cell_type": "code",
      "source": [
        "def squeezeData(batch):#gets batch between 0-1\n",
        "  min=np.amin(batch)\n",
        "  max=np.amax(batch)\n",
        "  for j in range(len(batch)):#scale from 0-1\n",
        "    batch[j] = (batch[j]-min)/(max-min)\n",
        "  return batch"
      ],
      "metadata": {
        "id": "KU3b4PWsWINg"
      },
      "execution_count": null,
      "outputs": []
    },
    {
      "cell_type": "code",
      "source": [
        "#linear reg stateData\n",
        "from sklearn.linear_model import LinearRegression\n",
        "def regLookAhead(stateData,lookAhead):#takes in lookAhead number and data and outs a linear model\n",
        "  x=np.array([i for i in range(lookAhead)]).reshape(-1,1)\n",
        "  labely=stateData\n",
        "  #add hyper param\n",
        "  reg = LinearRegression()\n",
        "  reg.fit(x, labely)\n",
        "  #reg.coef_\n",
        "  return reg"
      ],
      "metadata": {
        "id": "lbvMOr5GWmSI"
      },
      "execution_count": null,
      "outputs": []
    },
    {
      "cell_type": "code",
      "source": [
        "def giveState(reg):\n",
        "  x=reg.coef*3+6\n",
        "  if x<0:\n",
        "    return 0\n",
        "  if x>12:\n",
        "    return 12\n",
        "  return int(x)"
      ],
      "metadata": {
        "id": "B5Qsn3Hmjd4A"
      },
      "execution_count": null,
      "outputs": []
    },
    {
      "cell_type": "code",
      "source": [
        "def preprocessing(df,n,lookAhead):\n",
        "  df=df.filter(['Adj Close'])\n",
        "  df=df.values\n",
        "  X=[]\n",
        "  y=[]\n",
        "  stateData=[]\n",
        "  for i in range(n,len(df)-(n+lookAhead)):\n",
        "    preBatch=df[i-n:i,0]\n",
        "    batch=preBatch.copy()\n",
        "    batch=squeezeData(batch)\n",
        "    X.append(batch)#first n val scaled\n",
        "    stateData=df[i:i+lookAhead,0]#next lookAhead values\n",
        "    reg=regLookAhead(stateData,lookAhead)\n",
        "    #append state or coef and %diff of last val and y intercept\n",
        "    state=[reg.coef_]\n",
        "    y.append(state)\n",
        "  return X,y"
      ],
      "metadata": {
        "id": "aMIkzX_sxnRt"
      },
      "execution_count": null,
      "outputs": []
    },
    {
      "cell_type": "code",
      "source": [
        "def multiPreprocessing(df,n,lookAhead):\n",
        "  X=[]\n",
        "  y=[]\n",
        "  for d in df:\n",
        "    d=d.filter(['Adj Close'])\n",
        "    d=d.values\n",
        "    stateData=[]\n",
        "    for i in range(n,len(d)-(n+lookAhead)):\n",
        "      preBatch=d[i-n:i,0]\n",
        "      batch=preBatch.copy()\n",
        "      batch=squeezeData(batch)\n",
        "      X.append(batch)#first n val scaled\n",
        "      stateData=d[i:i+lookAhead,0]#next lookAhead values\n",
        "      reg=regLookAhead(stateData,lookAhead)\n",
        "      #append state or coef and %diff of last val and y intercept\n",
        "      state=[reg.coef_]\n",
        "      y.append(state)\n",
        "  return X,y"
      ],
      "metadata": {
        "id": "8y2UkELnhVVp"
      },
      "execution_count": null,
      "outputs": []
    },
    {
      "cell_type": "code",
      "source": [
        "data=getData('AAPL','1y','1h')\n",
        "df=[]\n",
        "stocks=['AAPL','TSLA']\n",
        "for stock in stocks:\n",
        "  df.append(getData(stock,'1y','1h'))\n",
        "X,y=preprocessing(data,n,lookAhead)\n",
        "batch=X[0]\n",
        "testy=y[0]\n",
        "print(batch)\n",
        "print(testy)\n",
        "#train test split\n",
        "from sklearn.model_selection import train_test_split\n",
        "X_train, X_test, y_train, y_test = train_test_split(X,y,test_size=0.3)\n",
        "print(len(X_train))\n",
        "print(len(y_train))\n",
        "X_trainS=tf.stack(X_train)\n",
        "y_trainS=tf.stack(y_train)"
      ],
      "metadata": {
        "id": "iPS-LbpXAZdW",
        "colab": {
          "base_uri": "https://localhost:8080/"
        },
        "outputId": "4089c15a-96db-4621-ce7d-23cb1df411e4"
      },
      "execution_count": null,
      "outputs": [
        {
          "output_type": "stream",
          "name": "stdout",
          "text": [
            "[*********************100%***********************]  1 of 1 completed\n",
            "[*********************100%***********************]  1 of 1 completed\n",
            "[*********************100%***********************]  1 of 1 completed\n",
            "[0.95004511 0.93460476 0.93278923 0.8585838  0.82016379 0.80381428\n",
            " 0.78928309 1.         0.86058089 0.88324318 0.85558609 0.90236172\n",
            " 0.8909987  0.88340672 0.49682143 0.42870151 0.41825595 0.38370607\n",
            " 0.39677583 0.40826497 0.46412381 0.59598559 0.62489554 0.63855639\n",
            " 0.59503209 0.55177112 0.47682977 0.48319661 0.45413283 0.5122701\n",
            " 0.57311541 0.53678534 0.5175296  0.57219795 0.62670276 0.70493146\n",
            " 0.74801088 0.71700268 0.66484975 0.67393296 0.69346034 0.66939135\n",
            " 0.50454091 0.49818377 0.50590326 0.49395954 0.39682088 0.39600389\n",
            " 0.36603095 0.05722049 0.20345132 0.23024499 0.26792909 0.30791101\n",
            " 0.28474079 0.27429593 0.06539524 0.0308807  0.         0.00329706]\n",
            "[array([0.11865252])]\n",
            "1137\n",
            "1137\n"
          ]
        }
      ]
    },
    {
      "cell_type": "code",
      "source": [
        "#3 have it auto label data\n",
        "#study the data and define states\n",
        "#normalize data between min max of the batch 0 1\n",
        "#import karas\n",
        "#get batch-60 of data\n",
        "#label the data with the state that we want to predict\n",
        "#7,5, or increase-linereg\n",
        "#10-20 states for -shaperecog\n",
        "# input 60 compare 1-3 hidden layers, output #states values between 0-1, play with different activation fuctions\n",
        "!pip install -q -U keras-tuner\n",
        "import keras_tuner as kt\n",
        "#start nodes, array of ints for lstm, array of ints for dense, act, dropout\n",
        "def lstmModel(inputShape=(len(X_train[0]),1),start=60,rate=.5,layers=3, act=None, dropout=0.0,reg='l2'):#add parameters of start nodes, radio to next layer and #of hidden layers\n",
        "  model=Sequential()\n",
        "  nodes=start*rate\n",
        "  #input\n",
        "  model.add(LSTM(120, return_sequences=True, input_shape=inputShape))#change hyperparameters but pick an independant variable \n",
        "  #hidden layer\n",
        "  model.add(LSTM(start,return_sequences=False))\n",
        "  model.add(Dense(nodes,activation=act, kernel_regularizer=reg))\n",
        "  #output\n",
        "  model.add(Dense(1))\n",
        "  #compile model\n",
        "  model.compile(optimizer='adam', loss='mean_squared_error')#change optimizer customize loss to take abs of the difference\n",
        "  return model"
      ],
      "metadata": {
        "id": "DOMLJJUfmzJF"
      },
      "execution_count": null,
      "outputs": []
    },
    {
      "cell_type": "code",
      "source": [
        "def lstmModel2(inputShape=(len(X_train[0]),1),start=120,next=60,last=20, act=None, dropout=0.0,reg='l2'):#add parameters of start nodes, radio to next layer and #of hidden layers\n",
        "  model=Sequential()\n",
        "  #input\n",
        "  model.add(LSTM(start, return_sequences=True, input_shape=inputShape))#change hyperparameters but pick an independant variable \n",
        "  #hidden layer\n",
        "  model.add(LSTM(next,return_sequences=False))\n",
        "  model.add(Dropout(dropout))\n",
        "  model.add(Dense(last,activation=act, kernel_regularizer=reg))\n",
        "  #output\n",
        "  model.add(Dense(1))\n",
        "  #compile model\n",
        "  model.compile(optimizer='adam', loss='mean_squared_error')#change optimizer customize loss to take abs of the difference\n",
        "  return model"
      ],
      "metadata": {
        "id": "WfQn9xZeJW0I"
      },
      "execution_count": null,
      "outputs": []
    },
    {
      "cell_type": "code",
      "source": [
        "from keras.backend import dropout\n",
        "#gridsearch hyper parameters\n",
        "from sklearn.model_selection import GridSearchCV\n",
        "from keras.wrappers.scikit_learn import KerasClassifier\n",
        "mod = KerasClassifier(build_fn=lstmModel2)\n",
        "param=dict(dropout=[None,.05,.08,.1], epochs=[10,20], start=[400,200,150],next=[200,100],last=[200,100])\n",
        "grid = GridSearchCV(estimator=mod, param_grid=param, n_jobs=-1, scoring='neg_root_mean_squared_error', cv=3, refit=False)\n",
        "grid_result = grid.fit(X_train, y_train)\n",
        "print(grid_result.best_params_)\n",
        "#{'dropout': 0.2, 'epochs': 50, 'layers': 2, 'rate': 0.1, 'start': 60}\n",
        "#{'dropout': 0.1, 'epochs': 25, 'layers': 1, 'rate': 0.075, 'start': 50}"
      ],
      "metadata": {
        "colab": {
          "base_uri": "https://localhost:8080/"
        },
        "id": "xBLy5rlIqK0I",
        "outputId": "b7e0a471-edee-4870-ad20-7786c13041d3"
      },
      "execution_count": null,
      "outputs": [
        {
          "output_type": "stream",
          "name": "stderr",
          "text": [
            "/usr/local/lib/python3.7/dist-packages/ipykernel_launcher.py:5: DeprecationWarning: KerasClassifier is deprecated, use Sci-Keras (https://github.com/adriangb/scikeras) instead. See https://www.adriangb.com/scikeras/stable/migration.html for help migrating.\n",
            "  \"\"\"\n"
          ]
        },
        {
          "output_type": "stream",
          "name": "stdout",
          "text": [
            "{'dropout': None, 'epochs': 10, 'last': 200, 'next': 200, 'start': 400}\n"
          ]
        },
        {
          "output_type": "stream",
          "name": "stderr",
          "text": [
            "/usr/local/lib/python3.7/dist-packages/sklearn/model_selection/_validation.py:372: FitFailedWarning: \n",
            "288 fits failed out of a total of 288.\n",
            "The score on these train-test partitions for these parameters will be set to nan.\n",
            "If these failures are not expected, you can try to debug them by setting error_score='raise'.\n",
            "\n",
            "Below are more details about the failures:\n",
            "--------------------------------------------------------------------------------\n",
            "288 fits failed with the following error:\n",
            "Traceback (most recent call last):\n",
            "  File \"/usr/local/lib/python3.7/dist-packages/sklearn/model_selection/_validation.py\", line 680, in _fit_and_score\n",
            "    estimator.fit(X_train, y_train, **fit_params)\n",
            "  File \"/usr/local/lib/python3.7/dist-packages/keras/wrappers/scikit_learn.py\", line 234, in fit\n",
            "    raise ValueError('Invalid shape for y: ' + str(y.shape))\n",
            "ValueError: Invalid shape for y: (758, 1, 1)\n",
            "\n",
            "  warnings.warn(some_fits_failed_message, FitFailedWarning)\n",
            "/usr/local/lib/python3.7/dist-packages/sklearn/model_selection/_search.py:972: UserWarning: One or more of the test scores are non-finite: [nan nan nan nan nan nan nan nan nan nan nan nan nan nan nan nan nan nan\n",
            " nan nan nan nan nan nan nan nan nan nan nan nan nan nan nan nan nan nan\n",
            " nan nan nan nan nan nan nan nan nan nan nan nan nan nan nan nan nan nan\n",
            " nan nan nan nan nan nan nan nan nan nan nan nan nan nan nan nan nan nan\n",
            " nan nan nan nan nan nan nan nan nan nan nan nan nan nan nan nan nan nan\n",
            " nan nan nan nan nan nan]\n",
            "  category=UserWarning,\n"
          ]
        }
      ]
    },
    {
      "cell_type": "code",
      "source": [
        "#make models\n",
        "models=[]\n",
        "models.append(lstmModel((len(X_train[0]),1),80,.5,4,dropout=.5))\n",
        "models.append(lstmModel2())\n",
        "for model in models:\n",
        "  model.summary()"
      ],
      "metadata": {
        "colab": {
          "base_uri": "https://localhost:8080/"
        },
        "id": "xEWUuo7MSADu",
        "outputId": "c1a0c773-5168-4c40-a7ba-56cf549bc6f4"
      },
      "execution_count": null,
      "outputs": [
        {
          "output_type": "stream",
          "name": "stdout",
          "text": [
            "Model: \"sequential_24\"\n",
            "_________________________________________________________________\n",
            " Layer (type)                Output Shape              Param #   \n",
            "=================================================================\n",
            " lstm_47 (LSTM)              (None, 60, 120)           58560     \n",
            "                                                                 \n",
            " lstm_48 (LSTM)              (None, 80)                64320     \n",
            "                                                                 \n",
            " dense_77 (Dense)            (None, 40)                3240      \n",
            "                                                                 \n",
            " dense_78 (Dense)            (None, 1)                 41        \n",
            "                                                                 \n",
            "=================================================================\n",
            "Total params: 126,161\n",
            "Trainable params: 126,161\n",
            "Non-trainable params: 0\n",
            "_________________________________________________________________\n",
            "Model: \"sequential_25\"\n",
            "_________________________________________________________________\n",
            " Layer (type)                Output Shape              Param #   \n",
            "=================================================================\n",
            " lstm_49 (LSTM)              (None, 60, 1200)          5769600   \n",
            "                                                                 \n",
            " lstm_50 (LSTM)              (None, 1200)              11524800  \n",
            "                                                                 \n",
            " dropout_4 (Dropout)         (None, 1200)              0         \n",
            "                                                                 \n",
            " dense_79 (Dense)            (None, 1200)              1441200   \n",
            "                                                                 \n",
            " dense_80 (Dense)            (None, 1)                 1201      \n",
            "                                                                 \n",
            "=================================================================\n",
            "Total params: 18,736,801\n",
            "Trainable params: 18,736,801\n",
            "Non-trainable params: 0\n",
            "_________________________________________________________________\n"
          ]
        }
      ]
    },
    {
      "cell_type": "code",
      "source": [
        "#fit\n",
        "histories=[]\n",
        "for model in models:\n",
        "  print('model')\n",
        "  histories.append(model.fit(X_trainS,y_trainS, epochs=10))"
      ],
      "metadata": {
        "colab": {
          "base_uri": "https://localhost:8080/"
        },
        "id": "BY5PTKBq6rhd",
        "outputId": "163fd2a1-220c-4fc4-c529-205c0b81452a"
      },
      "execution_count": null,
      "outputs": [
        {
          "output_type": "stream",
          "name": "stdout",
          "text": [
            "model\n",
            "Epoch 1/10\n",
            "36/36 [==============================] - 9s 105ms/step - loss: 0.4738\n",
            "Epoch 2/10\n",
            "36/36 [==============================] - 4s 105ms/step - loss: 0.3001\n",
            "Epoch 3/10\n",
            "36/36 [==============================] - 4s 106ms/step - loss: 0.1911\n",
            "Epoch 4/10\n",
            "36/36 [==============================] - 4s 106ms/step - loss: 0.1263\n",
            "Epoch 5/10\n",
            "36/36 [==============================] - 4s 104ms/step - loss: 0.0884\n",
            "Epoch 6/10\n",
            "36/36 [==============================] - 4s 105ms/step - loss: 0.0671\n",
            "Epoch 7/10\n",
            "36/36 [==============================] - 4s 105ms/step - loss: 0.0558\n",
            "Epoch 8/10\n",
            "36/36 [==============================] - 4s 105ms/step - loss: 0.0496\n",
            "Epoch 9/10\n",
            "36/36 [==============================] - 4s 106ms/step - loss: 0.0467\n",
            "Epoch 10/10\n",
            "36/36 [==============================] - 4s 107ms/step - loss: 0.0449\n",
            "model\n",
            "Epoch 1/10\n",
            "36/36 [==============================] - 302s 8s/step - loss: 6.2344\n",
            "Epoch 2/10\n",
            "36/36 [==============================] - 298s 8s/step - loss: 0.8179\n",
            "Epoch 3/10\n",
            "36/36 [==============================] - 297s 8s/step - loss: 0.1215\n",
            "Epoch 4/10\n",
            "36/36 [==============================] - 296s 8s/step - loss: 0.0522\n",
            "Epoch 5/10\n",
            "36/36 [==============================] - 296s 8s/step - loss: 0.0459\n",
            "Epoch 6/10\n",
            "36/36 [==============================] - 296s 8s/step - loss: 0.0448\n",
            "Epoch 7/10\n",
            "36/36 [==============================] - 294s 8s/step - loss: 0.0445\n",
            "Epoch 8/10\n",
            "36/36 [==============================] - 293s 8s/step - loss: 0.0445\n",
            "Epoch 9/10\n",
            "36/36 [==============================] - 299s 8s/step - loss: 0.0445\n",
            "Epoch 10/10\n",
            "36/36 [==============================] - 296s 8s/step - loss: 0.0454\n"
          ]
        }
      ]
    },
    {
      "cell_type": "code",
      "source": [
        "#pred and error- model eval\n",
        "def eval(name,model,hist):\n",
        "  fig1 = plt.figure(0)\n",
        "  fig2 = plt.figure(1)\n",
        "  print(name)\n",
        "  epoches=pd.DataFrame(hist)\n",
        "  plt.figure(0)\n",
        "  plt.plot(epoches,label=name)\n",
        "  plt.xlabel('epoch')\n",
        "  plt.ylabel('loss/rmse')\n",
        "  X_testS=tf.stack(X_test)\n",
        "  pred=model.predict(X_testS)\n",
        "  avgE=np.mean(np.absolute(pred-y_test))\n",
        "  rmse=np.sqrt(np.mean(np.absolute(pred-y_test)**2))\n",
        "  print('avg error: '+str(avgE))\n",
        "  print('rmse: '+str(rmse))\n",
        "  error=pred-y_test\n",
        "  error=error.reshape(error.shape[0]*error.shape[1],1)\n",
        "  error.shape\n",
        "  plt.figure(1)\n",
        "  plt.hist(error, bins='auto',label=name)\n",
        "  plt.axvline(x=0.1,lw=1.3, color='g')\n",
        "  plt.axvline(x=-0.1, lw=1.3, color='g')\n",
        "  plt.title('error dist')\n",
        "  plt.xlabel('error')\n",
        "  plt.ylabel('count')\n",
        "  fig1 = plt.figure(0)\n",
        "  fig2 = plt.figure(1)\n",
        "  return fig1, fig2\n"
      ],
      "metadata": {
        "id": "yqs2WT1p9-W9"
      },
      "execution_count": null,
      "outputs": []
    },
    {
      "cell_type": "code",
      "source": [
        "for i in range(len(models)):\n",
        "  eval('model '+str(i),models[i], histories[i].history)\n",
        "\n",
        "plt.legend()\n",
        "plt.show()"
      ],
      "metadata": {
        "colab": {
          "base_uri": "https://localhost:8080/",
          "height": 722
        },
        "id": "BxAwDo_tSiNm",
        "outputId": "7c78a50a-06b4-4623-ce4b-45657e1ee276"
      },
      "execution_count": null,
      "outputs": [
        {
          "output_type": "stream",
          "name": "stdout",
          "text": [
            "model 0\n",
            "avg error: 0.16512049122350364\n",
            "rmse: 0.2139764371159288\n",
            "model 1\n",
            "avg error: 0.16815754322245727\n",
            "rmse: 0.21633002285328665\n"
          ]
        },
        {
          "output_type": "display_data",
          "data": {
            "text/plain": [
              "<Figure size 432x288 with 1 Axes>"
            ],
            "image/png": "[encoded data removed]"
          },
          "metadata": {}
        },
        {
          "output_type": "display_data",
          "data": {
            "text/plain": [
              "<Figure size 432x288 with 1 Axes>"
            ],
            "image/png": "[encoded data removed]"
          },
          "metadata": {}
        }
      ]
    },
    {
      "cell_type": "code",
      "source": [
        "#setup RL with a max of 10 states and defines score by increasing value of money+stockval\n"
      ],
      "metadata": {
        "id": "Yj5hintNodc0"
      },
      "execution_count": null,
      "outputs": []
    },
    {
      "cell_type": "code",
      "source": [
        "#Ben Pygame Code (For Storage)\n",
        "\n",
        "from turtle import width\n",
        "import pygame\n",
        "from pygame.locals import *\n",
        "\n",
        "import yfinance as yf\n",
        "\n",
        "import random\n",
        "\n",
        "import matplotlib.pyplot as plt\n",
        "\n",
        "import matplotlib\n",
        "matplotlib.use (\"Agg\")\n",
        "\n",
        "import matplotlib.backends.backend_agg as agg\n",
        "\n",
        "import pylab\n",
        "\n",
        "import pandas as pd\n",
        "\n",
        "# Import Stock Codes\n",
        "column_names = [\"codes\"]\n",
        "df = pd.read_csv (r'D:\\Computer Science\\Personal Projects\\ABCemn\\StockCodes - Sheet1.csv', names = column_names)\n",
        "print (df)\n",
        "Stock_Codes = df.codes.to_list()\n",
        "print (Stock_Codes)\n",
        "\n",
        "# Cam Graph Code\n",
        "\n",
        "def getData (code, period, interval) :\n",
        "\n",
        "    try :\n",
        "        df = yf.download (code, period = period, interval = interval)\n",
        "        missing = list (yf.shared._ERRORS.keys ())\n",
        "        print (missing)\n",
        "    except Exception as e :\n",
        "        print (\"Couldn't download stock info :(\") \n",
        "    return df\n",
        "#normalize data between min max\n",
        "\n",
        "def nextGraph () :\n",
        "    stock = random.choice (Stock_Codes)\n",
        "    data = getData (stock,'1mo','1h')\n",
        "    curRow = 0\n",
        "    batchSize = 60\n",
        "    #while fix while to end when out of data\n",
        "    curData = data [curRow : (curRow + batchSize)]\n",
        "    #plt.plot (curData ['Close'])\n",
        "    fig = pylab.figure (figsize = [8, 4], dpi = 100)\n",
        "    ax = fig.gca ()\n",
        "    ax.plot (curData ['Close'])\n",
        "    global canvas\n",
        "    canvas = agg.FigureCanvasAgg (fig)\n",
        "    canvas.draw ()\n",
        "    renderer = canvas.get_renderer ()\n",
        "    global raw_data\n",
        "    raw_data = renderer.tostring_rgb ()\n",
        "\n",
        "# initializing the constructor\n",
        "pygame.init ()\n",
        "  \n",
        "# screen resolution\n",
        "res = (1200, 900)\n",
        "\n",
        "# opens up a window\n",
        "screen = pygame.display.set_mode(res)\n",
        "\n",
        "#button colors\n",
        "\n",
        "colorBuy = (\"#FF312E\")\n",
        "colorSell = (\"#20A4F3\")\n",
        "colorStay = (\"#E2E4F6\")\n",
        "colorBackground = (\"#6B654B\")\n",
        "colorBorders = (\"#040403\")\n",
        "\n",
        "print (\"Made Colors\")\n",
        "\n",
        "# stores the width of the\n",
        "# screen into a variable\n",
        "widthS = screen.get_width()\n",
        "  \n",
        "# stores the height of the\n",
        "# screen into a variable\n",
        "heightS = screen.get_height()\n",
        "\n",
        "# defining a font\n",
        "smallfont = pygame.font.SysFont('Times New Roman',35)\n",
        "\n",
        "print (\"Made Font\")\n",
        "\n",
        "# rendering a text written in\n",
        "# this font\n",
        "textBuy = smallfont.render ('Buy' , True , colorBorders)\n",
        "textSell = smallfont.render ('Sell' , True , colorBorders)\n",
        "textStay = smallfont.render ('Stay' , True , colorBorders)\n",
        "\n",
        "textBuyDark = smallfont.render ('Buy', True, colorStay)\n",
        "textSellDark = smallfont.render ('Sell', True, colorStay)\n",
        "textStayDark = smallfont.render ('Stay', True, colorStay)\n",
        "\n",
        "print (\"Made Text\")\n",
        "\n",
        "count = 0\n",
        "\n",
        "print (\"Start Game\")\n",
        "print (\"\\n----------------------------------------------------\\n\")\n",
        "\n",
        "run = True\n",
        "\n",
        "nextGraph ()\n",
        "\n",
        "while run :\n",
        "    \n",
        "    for ev in pygame.event.get () :\n",
        "\n",
        "        # fills the screen with a color\n",
        "        screen.fill (colorBackground)\n",
        "        \n",
        "        # Quit Condition\n",
        "        if ev.type == pygame.QUIT :\n",
        "            print (\"\\n----------------------------------------------------\\n\")\n",
        "            print (\"Transactions Complete. Goodbye Now.\\n\")\n",
        "            run = False\n",
        "            pygame.quit ()\n",
        "            break\n",
        "\n",
        "        # Quit After Five\n",
        "        if count == 5 :\n",
        "            print (\"\\n----------------------------------------------------\\n\")\n",
        "            print (\"Transactions Complete. Goodbye Now.\\n\")\n",
        "            run = False\n",
        "            pygame.quit ()\n",
        "            break\n",
        "\n",
        "\n",
        "        # Quit Button\n",
        "        if ev.type == pygame.MOUSEBUTTONDOWN :\n",
        "            if widthS / 32 <= mouse [0] <= widthS / 32 + 50 and heightS / 32 <= mouse [1] <= heightS / 32 + 50 :\n",
        "                print (\"quit\")\n",
        "                run = False\n",
        "                pygame.quit ()\n",
        "                break\n",
        "\n",
        "\n",
        "        # Stay Event\n",
        "        if ev.type == pygame.MOUSEBUTTONDOWN :\n",
        "            if widthS / 2 - 50 <= mouse [0] <= widthS / 2 + 50 and heightS * .9 <= mouse [1] <= heightS * .9 + 40 :\n",
        "                print (\"Stay\")\n",
        "                nextGraph ()\n",
        "                count += 1\n",
        "\n",
        "        # Sell Event\n",
        "        if ev.type == pygame.MOUSEBUTTONDOWN :\n",
        "            if widthS / 4 - 50 <= mouse [0] <= widthS / 4 + 50 and heightS * .9 <= mouse [1] <= heightS * .9 + 40 :\n",
        "                print (\"Sell Stocks\")\n",
        "                nextGraph ()\n",
        "                count += 1\n",
        "\n",
        "        # Buy Event\n",
        "        if ev.type == pygame.MOUSEBUTTONDOWN :\n",
        "            if widthS * .75 - 50 <= mouse [0] <= widthS * .75 + 50 and heightS * .9 <= mouse [1] <= heightS * .9 + 40 :\n",
        "                print (\"Buy Stocks\")\n",
        "                nextGraph ()\n",
        "                count += 1\n",
        "       \n",
        "        # stores the (x,y) coordinates into\n",
        "        # the variable as a tupl\n",
        "        mouse = pygame.mouse.get_pos ()\n",
        "\n",
        "        # Quit Button\n",
        "        if widthS / 32 <= mouse [0] <= widthS / 32 + 50 and heightS / 32 <= mouse [1] <= heightS / 32 + 50 :\n",
        "            pygame.draw.rect (screen, colorStay, [widthS / 32, heightS / 32, 50, 50])\n",
        "            \n",
        "        else :\n",
        "            pygame.draw.rect (screen, colorBorders, [widthS / 32, heightS / 32, 50, 50])\n",
        "\n",
        "        # Sell Button\n",
        "        if widthS / 4 - 50 <= mouse [0] <= widthS / 4 + 50 and heightS * .9 <= mouse [1] <= heightS * .9 + 40 :\n",
        "            pygame.draw.rect (screen, colorBorders, [widthS / 4 - 50, heightS * .9, 100, 40])\n",
        "            screen.blit (textSellDark, (widthS / 4 - 25, heightS * .9))\n",
        "            \n",
        "        else :\n",
        "            pygame.draw.rect (screen, colorSell, [widthS / 4 - 50, heightS * .9, 100, 40])  \n",
        "            screen.blit (textSell , (widthS / 4 - 25, heightS * .9))\n",
        "\n",
        "        # Stay Button\n",
        "        if widthS / 2 - 50 <= mouse [0] <= widthS / 2 + 50 and heightS * .9 <= mouse [1] <= heightS * .9 + 40 :\n",
        "            pygame.draw.rect (screen, colorBorders, [widthS / 2 - 50, heightS * .9, 100, 40])\n",
        "            screen.blit (textStayDark, (widthS / 2 - 25, heightS * .9))\n",
        "            \n",
        "        else :\n",
        "            pygame.draw.rect (screen, colorStay, [widthS / 2 - 50, heightS * .9, 100, 40])\n",
        "            screen.blit (textStay, (widthS / 2 - 25, heightS * .9))\n",
        "\n",
        "        #Buy Button\n",
        "        if widthS * .75 - 50 <= mouse [0] <= widthS * .75 + 50 and heightS * .9 <= mouse [1] <= heightS * .9 + 40 :\n",
        "            pygame.draw.rect (screen, colorBorders, [widthS * .75 - 50, heightS * .9, 100, 40])\n",
        "            screen.blit (textBuyDark, (widthS * .75 - 25, heightS * .9))        \n",
        "        else :\n",
        "            pygame.draw.rect (screen, colorBuy, [widthS * .75 - 50, heightS * .9, 100, 40])\n",
        "            screen.blit (textBuy, (widthS * .75 - 25, heightS * .9))\n",
        "\n",
        "        # Graph\n",
        "        #window = pygame.display.set_mode ((400, 400), DOUBLEBUF)\n",
        "        screen = pygame.display.get_surface ()\n",
        "\n",
        "        size = canvas.get_width_height ()\n",
        "\n",
        "        surf = pygame.image.fromstring (raw_data, size, \"RGB\")\n",
        "        screen.blit (surf, ((widthS / 2) - 400, (heightS / 2) - 200))\n",
        "        \n",
        "        # updates the frames of the game\n",
        "        pygame.display.update ()"
      ],
      "metadata": {
        "id": "rqRQPzM2nHgb",
        "outputId": "7e74af20-834c-4657-bce5-5f61e3656ec8",
        "colab": {
          "base_uri": "https://localhost:8080/",
          "height": 391
        }
      },
      "execution_count": null,
      "outputs": [
        {
          "output_type": "error",
          "ename": "ModuleNotFoundError",
          "evalue": "ignored",
          "traceback": [
            "\u001b[0;31m---------------------------------------------------------------------------\u001b[0m",
            "\u001b[0;31mModuleNotFoundError\u001b[0m                       Traceback (most recent call last)",
            "\u001b[0;32m<ipython-input-18-4f141b3ebacc>\u001b[0m in \u001b[0;36m<module>\u001b[0;34m()\u001b[0m\n\u001b[1;32m      2\u001b[0m \u001b[0;34m\u001b[0m\u001b[0m\n\u001b[1;32m      3\u001b[0m \u001b[0;32mfrom\u001b[0m \u001b[0mturtle\u001b[0m \u001b[0;32mimport\u001b[0m \u001b[0mwidth\u001b[0m\u001b[0;34m\u001b[0m\u001b[0;34m\u001b[0m\u001b[0m\n\u001b[0;32m----> 4\u001b[0;31m \u001b[0;32mimport\u001b[0m \u001b[0mpygame\u001b[0m\u001b[0;34m\u001b[0m\u001b[0;34m\u001b[0m\u001b[0m\n\u001b[0m\u001b[1;32m      5\u001b[0m \u001b[0;32mfrom\u001b[0m \u001b[0mpygame\u001b[0m\u001b[0;34m.\u001b[0m\u001b[0mlocals\u001b[0m \u001b[0;32mimport\u001b[0m \u001b[0;34m*\u001b[0m\u001b[0;34m\u001b[0m\u001b[0;34m\u001b[0m\u001b[0m\n\u001b[1;32m      6\u001b[0m \u001b[0;34m\u001b[0m\u001b[0m\n",
            "\u001b[0;31mModuleNotFoundError\u001b[0m: No module named 'pygame'",
            "",
            "\u001b[0;31m---------------------------------------------------------------------------\u001b[0;32m\nNOTE: If your import is failing due to a missing package, you can\nmanually install dependencies using either !pip or !apt.\n\nTo view examples of installing some common dependencies, click the\n\"Open Examples\" button below.\n\u001b[0;31m---------------------------------------------------------------------------\u001b[0m\n"
          ],
          "errorDetails": {
            "actions": [
              {
                "action": "open_url",
                "actionText": "Open Examples",
                "url": "/notebooks/snippets/importing_libraries.ipynb"
              }
            ]
          }
        }
      ]
    },
    {
      "cell_type": "code",
      "source": [
        ""
      ],
      "metadata": {
        "id": "GdH6Gmgs5AYL"
      },
      "execution_count": null,
      "outputs": []
    }
  ]
}