{
  "nbformat": 4,
  "nbformat_minor": 0,
  "metadata": {
    "colab": {
      "name": "get_state.ipynb",
      "provenance": [],
      "collapsed_sections": [],
      "include_colab_link": true
    },
    "kernelspec": {
      "name": "python3",
      "display_name": "Python 3"
    }
  },
  "cells": [
    {
      "cell_type": "markdown",
      "metadata": {
        "id": "view-in-github",
        "colab_type": "text"
      },
      "source": [
        "<a href=\"https://colab.research.google.com/github/Camouflage10/RL-stocks/blob/main/get_state.ipynb\" target=\"_parent\"><img src=\"https://colab.research.google.com/assets/colab-badge.svg\" alt=\"Open In Colab\"/></a>"
      ]
    },
    {
      "cell_type": "code",
      "metadata": {
        "id": "NmepI2Q0XsYF",
        "colab": {
          "base_uri": "https://localhost:8080/",
          "height": 673
        },
        "outputId": "e8377c75-a830-4097-9759-19db6f8199eb"
      },
      "source": [
        "import pandas as pd\n",
        "import pandas_datareader as web\n",
        "import numpy as np\n",
        "from sklearn.preprocessing import MinMaxScaler\n",
        "from keras.models import Sequential\n",
        "from keras.layers import Dense, LSTM, Dropout\n",
        "import matplotlib.pyplot as plt\n",
        "plt.style.use('fivethirtyeight')\n",
        "!pip install yfinance\n",
        "import yfinance as yf\n",
        "import tensorflow as tf\n",
        "import datetime\n",
        "import math\n",
        "import random\n",
        "n=60\n",
        "lookAhead=24"
      ],
      "execution_count": 1,
      "outputs": [
        {
          "output_type": "stream",
          "name": "stdout",
          "text": [
            "Collecting yfinance\n",
            "  Downloading yfinance-0.1.70-py2.py3-none-any.whl (26 kB)\n",
            "Requirement already satisfied: multitasking>=0.0.7 in /usr/local/lib/python3.7/dist-packages (from yfinance) (0.0.10)\n",
            "Collecting lxml>=4.5.1\n",
            "  Downloading lxml-4.8.0-cp37-cp37m-manylinux_2_17_x86_64.manylinux2014_x86_64.manylinux_2_24_x86_64.whl (6.4 MB)\n",
            "\u001b[K     |████████████████████████████████| 6.4 MB 7.8 MB/s \n",
            "\u001b[?25hCollecting requests>=2.26\n",
            "  Downloading requests-2.27.1-py2.py3-none-any.whl (63 kB)\n",
            "\u001b[K     |████████████████████████████████| 63 kB 1.2 MB/s \n",
            "\u001b[?25hRequirement already satisfied: numpy>=1.15 in /usr/local/lib/python3.7/dist-packages (from yfinance) (1.21.6)\n",
            "Requirement already satisfied: pandas>=0.24.0 in /usr/local/lib/python3.7/dist-packages (from yfinance) (1.3.5)\n",
            "Requirement already satisfied: python-dateutil>=2.7.3 in /usr/local/lib/python3.7/dist-packages (from pandas>=0.24.0->yfinance) (2.8.2)\n",
            "Requirement already satisfied: pytz>=2017.3 in /usr/local/lib/python3.7/dist-packages (from pandas>=0.24.0->yfinance) (2022.1)\n",
            "Requirement already satisfied: six>=1.5 in /usr/local/lib/python3.7/dist-packages (from python-dateutil>=2.7.3->pandas>=0.24.0->yfinance) (1.15.0)\n",
            "Requirement already satisfied: certifi>=2017.4.17 in /usr/local/lib/python3.7/dist-packages (from requests>=2.26->yfinance) (2021.10.8)\n",
            "Requirement already satisfied: charset-normalizer~=2.0.0 in /usr/local/lib/python3.7/dist-packages (from requests>=2.26->yfinance) (2.0.12)\n",
            "Requirement already satisfied: urllib3<1.27,>=1.21.1 in /usr/local/lib/python3.7/dist-packages (from requests>=2.26->yfinance) (1.24.3)\n",
            "Requirement already satisfied: idna<4,>=2.5 in /usr/local/lib/python3.7/dist-packages (from requests>=2.26->yfinance) (2.10)\n",
            "Installing collected packages: requests, lxml, yfinance\n",
            "  Attempting uninstall: requests\n",
            "    Found existing installation: requests 2.23.0\n",
            "    Uninstalling requests-2.23.0:\n",
            "      Successfully uninstalled requests-2.23.0\n",
            "  Attempting uninstall: lxml\n",
            "    Found existing installation: lxml 4.2.6\n",
            "    Uninstalling lxml-4.2.6:\n",
            "      Successfully uninstalled lxml-4.2.6\n",
            "\u001b[31mERROR: pip's dependency resolver does not currently take into account all the packages that are installed. This behaviour is the source of the following dependency conflicts.\n",
            "google-colab 1.0.0 requires requests~=2.23.0, but you have requests 2.27.1 which is incompatible.\n",
            "datascience 0.10.6 requires folium==0.2.1, but you have folium 0.8.3 which is incompatible.\u001b[0m\n",
            "Successfully installed lxml-4.8.0 requests-2.27.1 yfinance-0.1.70\n"
          ]
        },
        {
          "output_type": "display_data",
          "data": {
            "application/vnd.colab-display-data+json": {
              "pip_warning": {
                "packages": [
                  "requests"
                ]
              }
            }
          },
          "metadata": {}
        }
      ]
    },
    {
      "cell_type": "markdown",
      "source": [
        "1. set up game given 60 values guess buy or sell\n",
        "2. graphing each step and wait for answer\n",
        "3. setup a NN that catagorizes the state\n",
        "4. setup RL model with the NN output plugiung in the states\n",
        "5. optimize models"
      ],
      "metadata": {
        "id": "vCrnzZSCqWYl"
      }
    },
    {
      "cell_type": "code",
      "source": [
        "def getData(code, period, interval):\n",
        "  df=yf.download(code,period=period,interval=interval)\n",
        "  return df\n",
        "data=getData(\"AAPL\",'3mo','1h')\n",
        "#normalize data between min max\n",
        "data.head"
      ],
      "metadata": {
        "colab": {
          "base_uri": "https://localhost:8080/"
        },
        "id": "W2cAQnsH7oDP",
        "outputId": "17e5dc78-cee9-4cbd-b6fc-2a6fa206c095"
      },
      "execution_count": 2,
      "outputs": [
        {
          "output_type": "stream",
          "name": "stdout",
          "text": [
            "\r[*********************100%***********************]  1 of 1 completed\n"
          ]
        },
        {
          "output_type": "execute_result",
          "data": {
            "text/plain": [
              "<bound method NDFrame.head of                                  Open        High         Low       Close  \\\n",
              "2022-02-14 09:30:00-05:00  167.369995  169.000000  167.089996  168.419998   \n",
              "2022-02-14 10:30:00-05:00  168.429901  169.169998  167.699997  168.990005   \n",
              "2022-02-14 11:30:00-05:00  169.000000  169.339996  168.470001  169.330002   \n",
              "2022-02-14 12:30:00-05:00  169.315002  169.580002  168.850098  168.959000   \n",
              "2022-02-14 13:30:00-05:00  168.964996  168.970001  166.559998  167.500000   \n",
              "...                               ...         ...         ...         ...   \n",
              "2022-05-11 15:30:00-04:00  146.570999  146.940002  145.809998  146.589996   \n",
              "2022-05-12 09:30:00-04:00  142.770004  146.128098  140.091507  144.690002   \n",
              "2022-05-12 10:30:00-04:00  144.690002  146.199997  143.649994  144.949997   \n",
              "2022-05-12 11:30:00-04:00  144.949997  145.099792  143.880005  144.119995   \n",
              "2022-05-12 11:35:33-04:00  144.190002  144.190002  144.190002  144.190002   \n",
              "\n",
              "                            Adj Close    Volume  \n",
              "2022-02-14 09:30:00-05:00  168.419998  18117555  \n",
              "2022-02-14 10:30:00-05:00  168.990005   9003239  \n",
              "2022-02-14 11:30:00-05:00  169.330002   7083897  \n",
              "2022-02-14 12:30:00-05:00  168.959000   5098138  \n",
              "2022-02-14 13:30:00-05:00  167.500000   9465749  \n",
              "...                               ...       ...  \n",
              "2022-05-11 15:30:00-04:00  146.589996  18593585  \n",
              "2022-05-12 09:30:00-04:00  144.690002  57083818  \n",
              "2022-05-12 10:30:00-04:00  144.949997  20090336  \n",
              "2022-05-12 11:30:00-04:00  144.119995   1391472  \n",
              "2022-05-12 11:35:33-04:00  144.190002         0  \n",
              "\n",
              "[431 rows x 6 columns]>"
            ]
          },
          "metadata": {},
          "execution_count": 2
        }
      ]
    },
    {
      "cell_type": "markdown",
      "source": [
        "#1.linear reg the next n values and in the y=mx+b the m will be the state\n",
        "#2. research different shapes and the states are defined as those shapes\n"
      ],
      "metadata": {
        "id": "L7spBIWGpKyd"
      }
    },
    {
      "cell_type": "code",
      "source": [
        "def squeezeData(batch):#gets batch between 0-1\n",
        "  min=np.amin(batch)\n",
        "  max=np.amax(batch)\n",
        "  for j in range(len(batch)):#scale from 0-1\n",
        "    batch[j] = (batch[j]-min)/(max-min)\n",
        "  return batch"
      ],
      "metadata": {
        "id": "KU3b4PWsWINg"
      },
      "execution_count": 3,
      "outputs": []
    },
    {
      "cell_type": "code",
      "source": [
        "#linear reg stateData\n",
        "from sklearn.linear_model import LinearRegression\n",
        "def regLookAhead(stateData,lookAhead):#takes in lookAhead number and data and outs a linear model\n",
        "  x=np.array([i for i in range(lookAhead)]).reshape(-1,1)\n",
        "  labely=stateData\n",
        "  #add hyper param\n",
        "  reg = LinearRegression()\n",
        "  reg.fit(x, labely)\n",
        "  #reg.coef_\n",
        "  return reg"
      ],
      "metadata": {
        "id": "lbvMOr5GWmSI"
      },
      "execution_count": 4,
      "outputs": []
    },
    {
      "cell_type": "code",
      "source": [
        "def giveState(reg):\n",
        "  x=reg.coef*3+6\n",
        "  if x<0:\n",
        "    return 0\n",
        "  if x>12:\n",
        "    return 12\n",
        "  return int(x)"
      ],
      "metadata": {
        "id": "B5Qsn3Hmjd4A"
      },
      "execution_count": 5,
      "outputs": []
    },
    {
      "cell_type": "code",
      "source": [
        "def preprocessing(df,n,lookAhead):\n",
        "  df=df.filter(['Adj Close'])\n",
        "  df=df.values\n",
        "  X=[]\n",
        "  y=[]\n",
        "  stateData=[]\n",
        "  for i in range(n,len(df)-(n+lookAhead)):\n",
        "    preBatch=df[i-n:i,0]\n",
        "    batch=preBatch.copy()\n",
        "    batch=squeezeData(batch)\n",
        "    X.append(batch)#first n val scaled\n",
        "    stateData=df[i:i+lookAhead,0]#next lookAhead values\n",
        "    reg=regLookAhead(stateData,lookAhead)\n",
        "    #append state or coef and %diff of last val and y intercept\n",
        "    state=[reg.coef_]\n",
        "    y.append(state)\n",
        "  return X,y"
      ],
      "metadata": {
        "id": "aMIkzX_sxnRt"
      },
      "execution_count": 6,
      "outputs": []
    },
    {
      "cell_type": "code",
      "source": [
        "def multiPreprocessing(df,n,lookAhead):\n",
        "  X=[]\n",
        "  y=[]\n",
        "  for d in df:\n",
        "    d=d.filter(['Adj Close'])\n",
        "    d=d.values\n",
        "    stateData=[]\n",
        "    for i in range(n,len(d)-(n+lookAhead)):\n",
        "      preBatch=d[i-n:i,0]\n",
        "      batch=preBatch.copy()\n",
        "      batch=squeezeData(batch)\n",
        "      X.append(batch)#first n val scaled\n",
        "      stateData=d[i:i+lookAhead,0]#next lookAhead values\n",
        "      reg=regLookAhead(stateData,lookAhead)\n",
        "      #append state or coef and %diff of last val and y intercept\n",
        "      state=[reg.coef_]\n",
        "      y.append(state)\n",
        "  return X,y"
      ],
      "metadata": {
        "id": "8y2UkELnhVVp"
      },
      "execution_count": 7,
      "outputs": []
    },
    {
      "cell_type": "code",
      "source": [
        "data=getData('AAPL','1y','1h')\n",
        "df=[]\n",
        "stocks=['AAPL','TSLA']\n",
        "for stock in stocks:\n",
        "  df.append(getData(stock,'1y','1h'))\n",
        "X,y=preprocessing(data,n,lookAhead)\n",
        "batch=X[0]\n",
        "testy=y[0]\n",
        "print(batch)\n",
        "print(testy)\n",
        "#train test split\n",
        "from sklearn.model_selection import train_test_split\n",
        "X_train, X_test, y_train, y_test = train_test_split(X,y,test_size=0.3)\n",
        "print(len(X_train))\n",
        "print(len(y_train))\n",
        "X_trainS=tf.stack(X_train)\n",
        "y_trainS=tf.stack(y_train)"
      ],
      "metadata": {
        "id": "iPS-LbpXAZdW",
        "colab": {
          "base_uri": "https://localhost:8080/"
        },
        "outputId": "20fa4348-373f-4b03-b739-88b977c88073"
      },
      "execution_count": 8,
      "outputs": [
        {
          "output_type": "stream",
          "name": "stdout",
          "text": [
            "[*********************100%***********************]  1 of 1 completed\n",
            "[*********************100%***********************]  1 of 1 completed\n",
            "[*********************100%***********************]  1 of 1 completed\n",
            "[0.06837619 0.07527091 0.00759752 0.         0.06647645 0.56790089\n",
            " 0.48622941 0.5887937  0.4339974  0.55840509 0.56980064 0.46915493\n",
            " 0.74263941 0.77490893 0.8433054  0.90313349 0.91927766 0.93352355\n",
            " 0.94396995 0.65147212 0.64957238 0.62081687 0.55623872 0.56220312\n",
            " 0.57948772 0.7217466  0.80679878 0.78442502 0.74738804 0.73029471\n",
            " 0.65147212 0.58349442 0.45204132 0.24501445 0.24343785 0.31908841\n",
            " 0.33810032 0.42733164 0.39453031 0.4216527  0.74074112 0.81671338\n",
            " 0.82431089 0.90883126 0.93449153 0.99335163 0.91927766 0.77112973\n",
            " 0.64957238 0.61443513 0.60778677 0.61063565 0.66001878 0.56220312\n",
            " 0.96106328 0.95726524 0.94778682 0.97135753 1.         0.99620052]\n",
            "[array([-0.06649973])]\n",
            "1138\n",
            "1138\n"
          ]
        }
      ]
    },
    {
      "cell_type": "code",
      "source": [
        "#3 have it auto label data\n",
        "#study the data and define states\n",
        "#normalize data between min max of the batch 0 1\n",
        "#import karas\n",
        "#get batch-60 of data\n",
        "#label the data with the state that we want to predict\n",
        "#7,5, or increase-linereg\n",
        "#10-20 states for -shaperecog\n",
        "# input 60 compare 1-3 hidden layers, output #states values between 0-1, play with different activation fuctions\n",
        "!pip install -q -U keras-tuner\n",
        "import keras_tuner as kt\n",
        "#start nodes, array of ints for lstm, array of ints for dense, act, dropout\n",
        "def lstmModel(inputShape=(len(X_train[0]),1),start=60,rate=.5,layers=3, act=None, dropout=0.0,reg='l2'):#add parameters of start nodes, radio to next layer and #of hidden layers\n",
        "  model=Sequential()\n",
        "  nodes=start*rate\n",
        "  #input\n",
        "  model.add(LSTM(120, return_sequences=True, input_shape=inputShape))#change hyperparameters but pick an independant variable \n",
        "  #hidden layer\n",
        "  model.add(LSTM(start,return_sequences=False))\n",
        "  model.add(Dense(nodes,activation=act, kernel_regularizer=reg))\n",
        "  #output\n",
        "  model.add(Dense(1))\n",
        "  #compile model\n",
        "  model.compile(optimizer='adam', loss='mean_squared_error')#change optimizer customize loss to take abs of the difference\n",
        "  return model"
      ],
      "metadata": {
        "id": "DOMLJJUfmzJF",
        "colab": {
          "base_uri": "https://localhost:8080/"
        },
        "outputId": "9cb1fe86-49e6-4955-8be7-97b261f8117a"
      },
      "execution_count": 9,
      "outputs": [
        {
          "output_type": "stream",
          "name": "stdout",
          "text": [
            "\u001b[?25l\r\u001b[K     |██▌                             | 10 kB 17.3 MB/s eta 0:00:01\r\u001b[K     |█████                           | 20 kB 5.8 MB/s eta 0:00:01\r\u001b[K     |███████▍                        | 30 kB 4.0 MB/s eta 0:00:01\r\u001b[K     |█████████▉                      | 40 kB 3.7 MB/s eta 0:00:01\r\u001b[K     |████████████▎                   | 51 kB 3.3 MB/s eta 0:00:01\r\u001b[K     |██████████████▊                 | 61 kB 3.9 MB/s eta 0:00:01\r\u001b[K     |█████████████████▏              | 71 kB 4.3 MB/s eta 0:00:01\r\u001b[K     |███████████████████▋            | 81 kB 4.2 MB/s eta 0:00:01\r\u001b[K     |██████████████████████          | 92 kB 4.6 MB/s eta 0:00:01\r\u001b[K     |████████████████████████▌       | 102 kB 3.5 MB/s eta 0:00:01\r\u001b[K     |███████████████████████████     | 112 kB 3.5 MB/s eta 0:00:01\r\u001b[K     |█████████████████████████████▍  | 122 kB 3.5 MB/s eta 0:00:01\r\u001b[K     |███████████████████████████████▉| 133 kB 3.5 MB/s eta 0:00:01\r\u001b[K     |████████████████████████████████| 133 kB 3.5 MB/s \n",
            "\u001b[?25h"
          ]
        }
      ]
    },
    {
      "cell_type": "code",
      "source": [
        "def lstmModel2(inputShape=(len(X_train[0]),1),start=120,next=60,last=20, act=None, dropout=0.0,reg='l2'):#add parameters of start nodes, radio to next layer and #of hidden layers\n",
        "  model=Sequential()\n",
        "  #input\n",
        "  model.add(LSTM(start, return_sequences=True, input_shape=inputShape))#change hyperparameters but pick an independant variable \n",
        "  #hidden layer\n",
        "  model.add(LSTM(next,return_sequences=False))\n",
        "  model.add(Dropout(dropout))\n",
        "  model.add(Dense(last,activation=act, kernel_regularizer=reg))\n",
        "  #output\n",
        "  model.add(Dense(1))\n",
        "  #compile model\n",
        "  model.compile(optimizer='adam', loss='mean_squared_error')#change optimizer customize loss to take abs of the difference\n",
        "  return model"
      ],
      "metadata": {
        "id": "WfQn9xZeJW0I"
      },
      "execution_count": 10,
      "outputs": []
    },
    {
      "cell_type": "code",
      "source": [
        "from keras.backend import dropout\n",
        "#gridsearch hyper parameters\n",
        "from sklearn.model_selection import GridSearchCV\n",
        "from keras.wrappers.scikit_learn import KerasClassifier\n",
        "mod = KerasClassifier(build_fn=lstmModel2)\n",
        "param=dict(dropout=[None,.05,.08,.1], epochs=[10,20], start=[400,200,150],next=[200,100],last=[200,100])\n",
        "grid = GridSearchCV(estimator=mod, param_grid=param, n_jobs=-1, scoring='neg_root_mean_squared_error', cv=3, refit=False)\n",
        "grid_result = grid.fit(X_train, y_train)\n",
        "print(grid_result.best_params_)\n",
        "#{'dropout': 0.2, 'epochs': 50, 'layers': 2, 'rate': 0.1, 'start': 60}\n",
        "#{'dropout': 0.1, 'epochs': 25, 'layers': 1, 'rate': 0.075, 'start': 50}"
      ],
      "metadata": {
        "colab": {
          "base_uri": "https://localhost:8080/"
        },
        "id": "xBLy5rlIqK0I",
        "outputId": "b7e0a471-edee-4870-ad20-7786c13041d3"
      },
      "execution_count": null,
      "outputs": [
        {
          "output_type": "stream",
          "name": "stderr",
          "text": [
            "/usr/local/lib/python3.7/dist-packages/ipykernel_launcher.py:5: DeprecationWarning: KerasClassifier is deprecated, use Sci-Keras (https://github.com/adriangb/scikeras) instead. See https://www.adriangb.com/scikeras/stable/migration.html for help migrating.\n",
            "  \"\"\"\n"
          ]
        },
        {
          "output_type": "stream",
          "name": "stdout",
          "text": [
            "{'dropout': None, 'epochs': 10, 'last': 200, 'next': 200, 'start': 400}\n"
          ]
        },
        {
          "output_type": "stream",
          "name": "stderr",
          "text": [
            "/usr/local/lib/python3.7/dist-packages/sklearn/model_selection/_validation.py:372: FitFailedWarning: \n",
            "288 fits failed out of a total of 288.\n",
            "The score on these train-test partitions for these parameters will be set to nan.\n",
            "If these failures are not expected, you can try to debug them by setting error_score='raise'.\n",
            "\n",
            "Below are more details about the failures:\n",
            "--------------------------------------------------------------------------------\n",
            "288 fits failed with the following error:\n",
            "Traceback (most recent call last):\n",
            "  File \"/usr/local/lib/python3.7/dist-packages/sklearn/model_selection/_validation.py\", line 680, in _fit_and_score\n",
            "    estimator.fit(X_train, y_train, **fit_params)\n",
            "  File \"/usr/local/lib/python3.7/dist-packages/keras/wrappers/scikit_learn.py\", line 234, in fit\n",
            "    raise ValueError('Invalid shape for y: ' + str(y.shape))\n",
            "ValueError: Invalid shape for y: (758, 1, 1)\n",
            "\n",
            "  warnings.warn(some_fits_failed_message, FitFailedWarning)\n",
            "/usr/local/lib/python3.7/dist-packages/sklearn/model_selection/_search.py:972: UserWarning: One or more of the test scores are non-finite: [nan nan nan nan nan nan nan nan nan nan nan nan nan nan nan nan nan nan\n",
            " nan nan nan nan nan nan nan nan nan nan nan nan nan nan nan nan nan nan\n",
            " nan nan nan nan nan nan nan nan nan nan nan nan nan nan nan nan nan nan\n",
            " nan nan nan nan nan nan nan nan nan nan nan nan nan nan nan nan nan nan\n",
            " nan nan nan nan nan nan nan nan nan nan nan nan nan nan nan nan nan nan\n",
            " nan nan nan nan nan nan]\n",
            "  category=UserWarning,\n"
          ]
        }
      ]
    },
    {
      "cell_type": "code",
      "source": [
        "#make models\n",
        "models=[]\n",
        "models.append(lstmModel((len(X_train[0]),1),80,.5,4,dropout=.5))\n",
        "models.append(lstmModel2())\n",
        "for model in models:\n",
        "  model.summary()"
      ],
      "metadata": {
        "colab": {
          "base_uri": "https://localhost:8080/"
        },
        "id": "xEWUuo7MSADu",
        "outputId": "dd39f1e7-494b-4051-81ed-3dec93c7871c"
      },
      "execution_count": 11,
      "outputs": [
        {
          "output_type": "stream",
          "name": "stdout",
          "text": [
            "Model: \"sequential\"\n",
            "_________________________________________________________________\n",
            " Layer (type)                Output Shape              Param #   \n",
            "=================================================================\n",
            " lstm (LSTM)                 (None, 60, 120)           58560     \n",
            "                                                                 \n",
            " lstm_1 (LSTM)               (None, 80)                64320     \n",
            "                                                                 \n",
            " dense (Dense)               (None, 40)                3240      \n",
            "                                                                 \n",
            " dense_1 (Dense)             (None, 1)                 41        \n",
            "                                                                 \n",
            "=================================================================\n",
            "Total params: 126,161\n",
            "Trainable params: 126,161\n",
            "Non-trainable params: 0\n",
            "_________________________________________________________________\n",
            "Model: \"sequential_1\"\n",
            "_________________________________________________________________\n",
            " Layer (type)                Output Shape              Param #   \n",
            "=================================================================\n",
            " lstm_2 (LSTM)               (None, 60, 120)           58560     \n",
            "                                                                 \n",
            " lstm_3 (LSTM)               (None, 60)                43440     \n",
            "                                                                 \n",
            " dropout (Dropout)           (None, 60)                0         \n",
            "                                                                 \n",
            " dense_2 (Dense)             (None, 20)                1220      \n",
            "                                                                 \n",
            " dense_3 (Dense)             (None, 1)                 21        \n",
            "                                                                 \n",
            "=================================================================\n",
            "Total params: 103,241\n",
            "Trainable params: 103,241\n",
            "Non-trainable params: 0\n",
            "_________________________________________________________________\n"
          ]
        }
      ]
    },
    {
      "cell_type": "code",
      "source": [
        "#fit\n",
        "batch_size=200\n",
        "histories=[]\n",
        "for model in models:\n",
        "  print('model')\n",
        "  histories.append(model.fit(X_trainS,y_trainS, epochs=10, batch_size=batch_size, validation_split=0.1))"
      ],
      "metadata": {
        "colab": {
          "base_uri": "https://localhost:8080/"
        },
        "id": "BY5PTKBq6rhd",
        "outputId": "4792a069-8fb2-431f-90c3-616916519db9"
      },
      "execution_count": 28,
      "outputs": [
        {
          "output_type": "stream",
          "name": "stdout",
          "text": [
            "model\n",
            "Epoch 1/10\n",
            "6/6 [==============================] - 4s 588ms/step - loss: 0.0193 - val_loss: 0.0194\n",
            "Epoch 2/10\n",
            "6/6 [==============================] - 2s 400ms/step - loss: 0.0205 - val_loss: 0.0213\n",
            "Epoch 3/10\n",
            "6/6 [==============================] - 2s 389ms/step - loss: 0.0225 - val_loss: 0.0218\n",
            "Epoch 4/10\n",
            "6/6 [==============================] - 2s 397ms/step - loss: 0.0220 - val_loss: 0.0273\n",
            "Epoch 5/10\n",
            "6/6 [==============================] - 2s 393ms/step - loss: 0.0257 - val_loss: 0.0216\n",
            "Epoch 6/10\n",
            "6/6 [==============================] - 2s 384ms/step - loss: 0.0226 - val_loss: 0.0222\n",
            "Epoch 7/10\n",
            "6/6 [==============================] - 2s 385ms/step - loss: 0.0233 - val_loss: 0.0235\n",
            "Epoch 8/10\n",
            "6/6 [==============================] - 2s 376ms/step - loss: 0.0224 - val_loss: 0.0223\n",
            "Epoch 9/10\n",
            "6/6 [==============================] - 2s 383ms/step - loss: 0.0211 - val_loss: 0.0184\n",
            "Epoch 10/10\n",
            "6/6 [==============================] - 2s 375ms/step - loss: 0.0191 - val_loss: 0.0205\n",
            "model\n",
            "Epoch 1/10\n",
            "6/6 [==============================] - 2s 344ms/step - loss: 0.0424 - val_loss: 0.0368\n",
            "Epoch 2/10\n",
            "6/6 [==============================] - 2s 331ms/step - loss: 0.0423 - val_loss: 0.0388\n",
            "Epoch 3/10\n",
            "6/6 [==============================] - 2s 335ms/step - loss: 0.0422 - val_loss: 0.0453\n",
            "Epoch 4/10\n",
            "6/6 [==============================] - 2s 336ms/step - loss: 0.0500 - val_loss: 0.0396\n",
            "Epoch 5/10\n",
            "6/6 [==============================] - 2s 328ms/step - loss: 0.0468 - val_loss: 0.0357\n",
            "Epoch 6/10\n",
            "6/6 [==============================] - 2s 330ms/step - loss: 0.0460 - val_loss: 0.0363\n",
            "Epoch 7/10\n",
            "6/6 [==============================] - 2s 331ms/step - loss: 0.0462 - val_loss: 0.0362\n",
            "Epoch 8/10\n",
            "6/6 [==============================] - 2s 331ms/step - loss: 0.0466 - val_loss: 0.0364\n",
            "Epoch 9/10\n",
            "6/6 [==============================] - 2s 335ms/step - loss: 0.0460 - val_loss: 0.0371\n",
            "Epoch 10/10\n",
            "6/6 [==============================] - 2s 333ms/step - loss: 0.0453 - val_loss: 0.0367\n"
          ]
        }
      ]
    },
    {
      "cell_type": "code",
      "source": [
        "#pred and error- model eval\n",
        "def eval(name,model,hist):\n",
        "  fig1 = plt.figure(0)\n",
        "  fig2 = plt.figure(1)\n",
        "  print(name)\n",
        "  epoches=pd.DataFrame(hist)\n",
        "  plt.figure(0)\n",
        "  plt.plot(epoches,label=name)\n",
        "  plt.xlabel('epoch')\n",
        "  plt.ylabel('loss/rmse')\n",
        "  X_testS=tf.stack(X_test)\n",
        "  pred=model.predict(X_testS)\n",
        "  avgE=np.mean(np.absolute(pred-y_test))\n",
        "  rmse=np.sqrt(np.mean(np.absolute(pred-y_test)**2))\n",
        "  print('avg error: '+str(avgE))\n",
        "  print('rmse: '+str(rmse))\n",
        "  error=pred-y_test\n",
        "  error=error.reshape(error.shape[0]*error.shape[1],1)\n",
        "  error.shape\n",
        "  plt.figure(1)\n",
        "  plt.hist(error, bins='auto',label=name)\n",
        "  plt.axvline(x=0.1,lw=1.3, color='g')\n",
        "  plt.axvline(x=-0.1, lw=1.3, color='g')\n",
        "  plt.title('error dist')\n",
        "  plt.xlabel('error')\n",
        "  plt.ylabel('count')\n",
        "  fig1 = plt.figure(0)\n",
        "  fig2 = plt.figure(1)\n",
        "  return fig1, fig2\n"
      ],
      "metadata": {
        "id": "yqs2WT1p9-W9"
      },
      "execution_count": 14,
      "outputs": []
    },
    {
      "cell_type": "code",
      "source": [
        "for i in range(len(models)):\n",
        "  eval('model '+str(i),models[i], histories[i].history)\n",
        "\n",
        "plt.legend()\n",
        "plt.show()"
      ],
      "metadata": {
        "colab": {
          "base_uri": "https://localhost:8080/",
          "height": 668
        },
        "id": "BxAwDo_tSiNm",
        "outputId": "28e61c47-de1c-4a74-9e0d-519189d4b7cf"
      },
      "execution_count": 29,
      "outputs": [
        {
          "output_type": "stream",
          "name": "stdout",
          "text": [
            "model 0\n",
            "avg error: 0.22150472299039112\n",
            "rmse: 0.2790939791527965\n",
            "model 1\n",
            "avg error: 0.17555413262189065\n",
            "rmse: 0.22444484954090327\n"
          ]
        },
        {
          "output_type": "display_data",
          "data": {
            "text/plain": [
              "<Figure size 432x288 with 1 Axes>"
            ],
            "image/png": "[encoded data removed]"
          },
          "metadata": {
            "needs_background": "light"
          }
        },
        {
          "output_type": "display_data",
          "data": {
            "text/plain": [
              "<Figure size 432x288 with 1 Axes>"
            ],
            "image/png": "[encoded data removed]"
          },
          "metadata": {
            "needs_background": "light"
          }
        }
      ]
    },
    {
      "cell_type": "code",
      "source": [
        "#setup RL with a max of 10 states and defines score by increasing value of money+stockval\n"
      ],
      "metadata": {
        "id": "Yj5hintNodc0"
      },
      "execution_count": null,
      "outputs": []
    },
    {
      "cell_type": "code",
      "source": [
        ""
      ],
      "metadata": {
        "id": "GdH6Gmgs5AYL"
      },
      "execution_count": null,
      "outputs": []
    }
  ]
}