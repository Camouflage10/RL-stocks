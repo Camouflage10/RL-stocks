{
  "nbformat": 4,
  "nbformat_minor": 0,
  "metadata": {
    "colab": {
      "name": "get_state.ipynb",
      "provenance": [],
      "collapsed_sections": [],
      "include_colab_link": true
    },
    "kernelspec": {
      "name": "python3",
      "display_name": "Python 3"
    }
  },
  "cells": [
    {
      "cell_type": "markdown",
      "metadata": {
        "id": "view-in-github",
        "colab_type": "text"
      },
      "source": [
        "<a href=\"https://colab.research.google.com/github/Camouflage10/RL-stocks/blob/experiment/get_state.ipynb\" target=\"_parent\"><img src=\"https://colab.research.google.com/assets/colab-badge.svg\" alt=\"Open In Colab\"/></a>"
      ]
    },
    {
      "cell_type": "code",
      "metadata": {
        "id": "NmepI2Q0XsYF",
        "colab": {
          "base_uri": "https://localhost:8080/"
        },
        "outputId": "c1911536-7b0d-4be5-ba31-5d1c679e14eb"
      },
      "source": [
        "import pandas as pd\n",
        "import pandas_datareader as web\n",
        "import numpy as np\n",
        "from sklearn.preprocessing import MinMaxScaler\n",
        "from keras.models import Sequential\n",
        "from keras.layers import Dense, LSTM, Dropout\n",
        "import matplotlib.pyplot as plt\n",
        "plt.style.use('fivethirtyeight')\n",
        "!pip install yfinance\n",
        "import yfinance as yf\n",
        "import tensorflow as tf\n",
        "import datetime\n",
        "import math\n",
        "import random\n",
        "import json\n",
        "n=80\n",
        "lookAhead=60"
      ],
      "execution_count": 60,
      "outputs": [
        {
          "output_type": "stream",
          "name": "stdout",
          "text": [
            "Requirement already satisfied: yfinance in /usr/local/lib/python3.7/dist-packages (0.1.70)\n",
            "Requirement already satisfied: requests>=2.26 in /usr/local/lib/python3.7/dist-packages (from yfinance) (2.27.1)\n",
            "Requirement already satisfied: numpy>=1.15 in /usr/local/lib/python3.7/dist-packages (from yfinance) (1.21.6)\n",
            "Requirement already satisfied: lxml>=4.5.1 in /usr/local/lib/python3.7/dist-packages (from yfinance) (4.8.0)\n",
            "Requirement already satisfied: pandas>=0.24.0 in /usr/local/lib/python3.7/dist-packages (from yfinance) (1.3.5)\n",
            "Requirement already satisfied: multitasking>=0.0.7 in /usr/local/lib/python3.7/dist-packages (from yfinance) (0.0.10)\n",
            "Requirement already satisfied: python-dateutil>=2.7.3 in /usr/local/lib/python3.7/dist-packages (from pandas>=0.24.0->yfinance) (2.8.2)\n",
            "Requirement already satisfied: pytz>=2017.3 in /usr/local/lib/python3.7/dist-packages (from pandas>=0.24.0->yfinance) (2022.1)\n",
            "Requirement already satisfied: six>=1.5 in /usr/local/lib/python3.7/dist-packages (from python-dateutil>=2.7.3->pandas>=0.24.0->yfinance) (1.15.0)\n",
            "Requirement already satisfied: urllib3<1.27,>=1.21.1 in /usr/local/lib/python3.7/dist-packages (from requests>=2.26->yfinance) (1.24.3)\n",
            "Requirement already satisfied: charset-normalizer~=2.0.0 in /usr/local/lib/python3.7/dist-packages (from requests>=2.26->yfinance) (2.0.12)\n",
            "Requirement already satisfied: idna<4,>=2.5 in /usr/local/lib/python3.7/dist-packages (from requests>=2.26->yfinance) (2.10)\n",
            "Requirement already satisfied: certifi>=2017.4.17 in /usr/local/lib/python3.7/dist-packages (from requests>=2.26->yfinance) (2021.10.8)\n"
          ]
        }
      ]
    },
    {
      "cell_type": "markdown",
      "source": [
        "1. set up game given 60 values guess buy or sell\n",
        "2. graphing each step and wait for answer\n",
        "3. setup a NN that catagorizes the state\n",
        "4. setup RL model with the NN output plugiung in the states\n",
        "5. optimize models"
      ],
      "metadata": {
        "id": "vCrnzZSCqWYl"
      }
    },
    {
      "cell_type": "code",
      "source": [
        "def getData(code, period, interval):\n",
        "  df=yf.download(code,period=period,interval=interval)\n",
        "  return df\n",
        "data=getData(\"AAPL\",'3mo','1h')\n",
        "#normalize data between min max\n",
        "data.head"
      ],
      "metadata": {
        "colab": {
          "base_uri": "https://localhost:8080/"
        },
        "id": "W2cAQnsH7oDP",
        "outputId": "61653abb-fc96-4774-85f3-af5af9cdbf44"
      },
      "execution_count": 61,
      "outputs": [
        {
          "output_type": "stream",
          "name": "stdout",
          "text": [
            "\r[*********************100%***********************]  1 of 1 completed\n"
          ]
        },
        {
          "output_type": "execute_result",
          "data": {
            "text/plain": [
              "<bound method NDFrame.head of                                  Open        High         Low       Close  \\\n",
              "2022-02-14 09:30:00-05:00  167.369995  169.000000  167.089996  168.419998   \n",
              "2022-02-14 10:30:00-05:00  168.429901  169.169998  167.699997  168.990005   \n",
              "2022-02-14 11:30:00-05:00  169.000000  169.339996  168.470001  169.330002   \n",
              "2022-02-14 12:30:00-05:00  169.315002  169.580002  168.850098  168.959000   \n",
              "2022-02-14 13:30:00-05:00  168.964996  168.970001  166.559998  167.500000   \n",
              "...                               ...         ...         ...         ...   \n",
              "2022-05-12 12:30:00-04:00  141.750107  142.600006  141.399994  141.829895   \n",
              "2022-05-12 13:30:00-04:00  141.820007  142.000000  139.000000  139.940002   \n",
              "2022-05-12 14:30:00-04:00  139.940002  141.838898  138.800003  140.929993   \n",
              "2022-05-12 15:30:00-04:00  140.910004  142.860001  140.710007  142.589996   \n",
              "2022-05-12 16:00:00-04:00  142.559998  142.559998  142.559998  142.559998   \n",
              "\n",
              "                            Adj Close    Volume  \n",
              "2022-02-14 09:30:00-05:00  168.419998  18117555  \n",
              "2022-02-14 10:30:00-05:00  168.990005   9003239  \n",
              "2022-02-14 11:30:00-05:00  169.330002   7083897  \n",
              "2022-02-14 12:30:00-05:00  168.959000   5098138  \n",
              "2022-02-14 13:30:00-05:00  167.500000   9465749  \n",
              "...                               ...       ...  \n",
              "2022-05-12 12:30:00-04:00  141.829895  12374992  \n",
              "2022-05-12 13:30:00-04:00  139.940002  20573661  \n",
              "2022-05-12 14:30:00-04:00  140.929993  22013227  \n",
              "2022-05-12 15:30:00-04:00  142.589996  18215056  \n",
              "2022-05-12 16:00:00-04:00  142.559998         0  \n",
              "\n",
              "[435 rows x 6 columns]>"
            ]
          },
          "metadata": {},
          "execution_count": 61
        }
      ]
    },
    {
      "cell_type": "markdown",
      "source": [
        "#1.linear reg the next n values and in the y=mx+b the m will be the state\n",
        "#2. research different shapes and the states are defined as those shapes\n"
      ],
      "metadata": {
        "id": "L7spBIWGpKyd"
      }
    },
    {
      "cell_type": "code",
      "source": [
        "def squeezeData(batch):#gets batch between 0-1\n",
        "  min=np.amin(batch)\n",
        "  max=np.amax(batch)\n",
        "  for j in range(len(batch)):#scale from 0-1\n",
        "    batch[j] = (batch[j]-min)/(max-min)\n",
        "  return batch"
      ],
      "metadata": {
        "id": "KU3b4PWsWINg"
      },
      "execution_count": 62,
      "outputs": []
    },
    {
      "cell_type": "code",
      "source": [
        "#linear reg stateData\n",
        "from sklearn.linear_model import LinearRegression\n",
        "def regLookAhead(stateData,lookAhead):#takes in lookAhead number and data and outs a linear model\n",
        "  x=np.array([i for i in range(lookAhead)]).reshape(-1,1)\n",
        "  labely=stateData\n",
        "  #add hyper param\n",
        "  reg = LinearRegression()\n",
        "  reg.fit(x, labely)\n",
        "  #reg.coef_\n",
        "  return reg"
      ],
      "metadata": {
        "id": "lbvMOr5GWmSI"
      },
      "execution_count": 63,
      "outputs": []
    },
    {
      "cell_type": "code",
      "source": [
        "def giveState(reg):\n",
        "  x=reg.coef*3+6\n",
        "  if x<0:\n",
        "    return 0\n",
        "  if x>12:\n",
        "    return 12\n",
        "  return int(x)"
      ],
      "metadata": {
        "id": "B5Qsn3Hmjd4A"
      },
      "execution_count": 64,
      "outputs": []
    },
    {
      "cell_type": "code",
      "source": [
        "def preprocessing(df,n,lookAhead):\n",
        "  df=df.filter(['Adj Close'])\n",
        "  df=df.values\n",
        "  X=[]\n",
        "  y=[]\n",
        "  stateData=[]\n",
        "  for i in range(n,len(df)-(n+lookAhead)):\n",
        "    preBatch=df[i-n:i,0]\n",
        "    batch=preBatch.copy()\n",
        "    batch=squeezeData(batch)\n",
        "    X.append(batch)#first n val scaled\n",
        "    stateData=df[i:i+lookAhead,0]#next lookAhead values\n",
        "    reg=regLookAhead(stateData,lookAhead)\n",
        "    #append state or coef and %diff of last val and y intercept\n",
        "    state=[reg.coef_]\n",
        "    y.append(state)\n",
        "  return X,y"
      ],
      "metadata": {
        "id": "aMIkzX_sxnRt"
      },
      "execution_count": 65,
      "outputs": []
    },
    {
      "cell_type": "code",
      "source": [
        "def multiPreprocessing(df,n,lookAhead):\n",
        "  X=[]\n",
        "  y=[]\n",
        "  for d in df:\n",
        "    d=d.filter(['Adj Close'])\n",
        "    d=d.values\n",
        "    stateData=[]\n",
        "    for i in range(n,len(d)-(n+lookAhead)):\n",
        "      preBatch=d[i-n:i,0]\n",
        "      batch=preBatch.copy()\n",
        "      batch=squeezeData(batch)\n",
        "      X.append(batch)#first n val scaled\n",
        "      stateData=d[i:i+lookAhead,0]#next lookAhead values\n",
        "      reg=regLookAhead(stateData,lookAhead)\n",
        "      #append state or coef and %diff of last val and y intercept\n",
        "      state=[reg.coef_]\n",
        "      y.append(state)\n",
        "  return X,y"
      ],
      "metadata": {
        "id": "8y2UkELnhVVp"
      },
      "execution_count": 66,
      "outputs": []
    },
    {
      "cell_type": "code",
      "source": [
        "data=getData('AAPL','1y','1h')\n",
        "df=[]\n",
        "stocks=['AAPL','TSLA']\n",
        "for stock in stocks:\n",
        "  df.append(getData(stock,'1y','1h'))\n",
        "X,y=preprocessing(data,n,lookAhead)\n",
        "batch=X[0]\n",
        "testy=y[0]\n",
        "print(batch)\n",
        "print(testy)\n",
        "#train test split\n",
        "from sklearn.model_selection import train_test_split\n",
        "X_train, X_test, y_train, y_test = train_test_split(X,y,test_size=0.3)\n",
        "print(len(X_train))\n",
        "print(len(y_train))\n",
        "X_trainS=tf.stack(X_train)\n",
        "y_trainS=tf.stack(y_train)"
      ],
      "metadata": {
        "id": "iPS-LbpXAZdW",
        "colab": {
          "base_uri": "https://localhost:8080/"
        },
        "outputId": "f843deb1-3d3d-4ed3-ee35-fb4d91a434a1"
      },
      "execution_count": 67,
      "outputs": [
        {
          "output_type": "stream",
          "name": "stdout",
          "text": [
            "[*********************100%***********************]  1 of 1 completed\n",
            "[*********************100%***********************]  1 of 1 completed\n",
            "[*********************100%***********************]  1 of 1 completed\n",
            "[0.42886502 0.32091423 0.45648048 0.2518756  0.41631376 0.43137604\n",
            " 0.29834572 0.65982888 0.70248171 0.79288602 0.8719649  0.89330376\n",
            " 0.91213352 0.92594125 0.53932683 0.53681581 0.4988077  0.41345032\n",
            " 0.42133388 0.44418013 0.63221343 0.74463272 0.71505979 0.66610547\n",
            " 0.64351205 0.53932683 0.44947606 0.27572549 0.0020839  0.\n",
            " 0.09999253 0.12512186 0.24306501 0.19970925 0.23555877 0.65731978\n",
            " 0.75773752 0.76777967 0.87949603 0.91341297 0.99121239 0.89330376\n",
            " 0.69748649 0.53681581 0.49037252 0.48158491 0.48535048 0.55062354\n",
            " 0.42133388 0.94853466 0.94351454 0.93098627 0.96214128 1.\n",
            " 0.99497796 0.84058387 0.85690262 0.77280171 0.81296842 0.80543728\n",
            " 0.75146285 0.73388955 0.79790614 0.82702706 0.81171387 0.79790614\n",
            " 0.7527174  0.7640141  0.75648297 0.77782183 0.92091921 0.79414057\n",
            " 0.75771262 0.70376308 0.54841515 0.52300809 0.38367628 0.36055422\n",
            " 0.32844537 0.37237957]\n",
            "[array([0.05092824])]\n",
            "1084\n",
            "1084\n"
          ]
        }
      ]
    },
    {
      "cell_type": "code",
      "source": [
        "#3 have it auto label data\n",
        "#study the data and define states\n",
        "#normalize data between min max of the batch 0 1\n",
        "#import karas\n",
        "#get batch-60 of data\n",
        "#label the data with the state that we want to predict\n",
        "#7,5, or increase-linereg\n",
        "#10-20 states for -shaperecog\n",
        "# input 60 compare 1-3 hidden layers, output #states values between 0-1, play with different activation fuctions\n",
        "!pip install -q -U keras-tuner\n",
        "import keras_tuner as kt\n",
        "#start nodes, array of ints for lstm, array of ints for dense, act, dropout\n",
        "def lstmModel(inputShape=(len(X_train[0]),1),start=60,rate=.5,layers=3, act=None, dropout=0.0,reg='l2'):#add parameters of start nodes, radio to next layer and #of hidden layers\n",
        "  model=Sequential()\n",
        "  nodes=start*rate\n",
        "  #input\n",
        "  model.add(LSTM(120, return_sequences=True, input_shape=inputShape))#change hyperparameters but pick an independant variable \n",
        "  #hidden layer\n",
        "  model.add(LSTM(start,return_sequences=False))\n",
        "  model.add(Dense(nodes,activation=act, kernel_regularizer=reg))\n",
        "  #output\n",
        "  model.add(Dense(1))\n",
        "  #compile model\n",
        "  model.compile(optimizer='adam', loss='mean_squared_error')#change optimizer customize loss to take abs of the difference\n",
        "  return model"
      ],
      "metadata": {
        "id": "DOMLJJUfmzJF"
      },
      "execution_count": 68,
      "outputs": []
    },
    {
      "cell_type": "code",
      "source": [
        "def lstmModel2(inputShape=(len(X_train[0]),1),start=120,next=60,last=20, act=None, dropout=0.0,reg='l2'):#add parameters of start nodes, radio to next layer and #of hidden layers\n",
        "  model=Sequential()\n",
        "  #input\n",
        "  model.add(LSTM(start, return_sequences=True, input_shape=inputShape))#change hyperparameters but pick an independant variable \n",
        "  #hidden layer\n",
        "  model.add(LSTM(next,return_sequences=False))\n",
        "  model.add(Dropout(dropout))\n",
        "  model.add(Dense(last,activation=act, kernel_regularizer=reg))\n",
        "  #output\n",
        "  model.add(Dense(1))\n",
        "  #compile model\n",
        "  model.compile(optimizer='adam', loss='mean_squared_error')#change optimizer customize loss to take abs of the difference\n",
        "  return model"
      ],
      "metadata": {
        "id": "WfQn9xZeJW0I"
      },
      "execution_count": 69,
      "outputs": []
    },
    {
      "cell_type": "code",
      "source": [
        "from keras.backend import dropout\n",
        "#gridsearch hyper parameters\n",
        "from sklearn.model_selection import GridSearchCV\n",
        "from keras.wrappers.scikit_learn import KerasClassifier\n",
        "param=dict(dropout=[None,.05,.08,.1], epochs=[10,20], start=[400,200,150],next=[200,100],last=[200,100])\n",
        "def model_gridsearch( param):\n",
        "  mod = KerasClassifier(build_fn=lstmModel2)\n",
        "  grid = GridSearchCV(estimator=mod, param_grid=param, n_jobs=-1, scoring='neg_root_mean_squared_error', cv=3, refit=False)\n",
        "  grid_result = grid.fit(X_train, y_train)\n",
        "  print(grid_result.best_params_)\n",
        "  #{'dropout': 0.2, 'epochs': 50, 'layers': 2, 'rate': 0.1, 'start': 60}\n",
        "  #{'dropout': 0.1, 'epochs': 25, 'layers': 1, 'rate': 0.075, 'start': 50}"
      ],
      "metadata": {
        "id": "xBLy5rlIqK0I"
      },
      "execution_count": 70,
      "outputs": []
    },
    {
      "cell_type": "code",
      "source": [
        "#make model\n",
        "model=lstmModel((len(X_train[0]),1),80,.5,4,dropout=.5)\n",
        "#model=lstmModel2()\n",
        "model.summary()"
      ],
      "metadata": {
        "colab": {
          "base_uri": "https://localhost:8080/"
        },
        "id": "xEWUuo7MSADu",
        "outputId": "3bc7d002-a2ae-445c-9c8c-5af95cb3b060"
      },
      "execution_count": 71,
      "outputs": [
        {
          "output_type": "stream",
          "name": "stdout",
          "text": [
            "Model: \"sequential_3\"\n",
            "_________________________________________________________________\n",
            " Layer (type)                Output Shape              Param #   \n",
            "=================================================================\n",
            " lstm_6 (LSTM)               (None, 80, 120)           58560     \n",
            "                                                                 \n",
            " lstm_7 (LSTM)               (None, 80)                64320     \n",
            "                                                                 \n",
            " dense_6 (Dense)             (None, 40)                3240      \n",
            "                                                                 \n",
            " dense_7 (Dense)             (None, 1)                 41        \n",
            "                                                                 \n",
            "=================================================================\n",
            "Total params: 126,161\n",
            "Trainable params: 126,161\n",
            "Non-trainable params: 0\n",
            "_________________________________________________________________\n"
          ]
        }
      ]
    },
    {
      "cell_type": "code",
      "source": [
        "#fit\n",
        "batch_size=200\n",
        "history=model.fit(X_trainS,y_trainS, epochs=10, batch_size=batch_size, validation_split=0.1)"
      ],
      "metadata": {
        "colab": {
          "base_uri": "https://localhost:8080/"
        },
        "id": "BY5PTKBq6rhd",
        "outputId": "116b0782-3fdd-48c7-b890-769e781347b7"
      },
      "execution_count": 72,
      "outputs": [
        {
          "output_type": "stream",
          "name": "stdout",
          "text": [
            "Epoch 1/10\n",
            "5/5 [==============================] - 16s 2s/step - loss: 0.5401 - val_loss: 0.5237\n",
            "Epoch 2/10\n",
            "5/5 [==============================] - 6s 1s/step - loss: 0.5032 - val_loss: 0.4882\n",
            "Epoch 3/10\n",
            "5/5 [==============================] - 6s 1s/step - loss: 0.4717 - val_loss: 0.4564\n",
            "Epoch 4/10\n",
            "5/5 [==============================] - 6s 1s/step - loss: 0.4408 - val_loss: 0.4277\n",
            "Epoch 5/10\n",
            "5/5 [==============================] - 5s 1s/step - loss: 0.4120 - val_loss: 0.3994\n",
            "Epoch 6/10\n",
            "5/5 [==============================] - 5s 1s/step - loss: 0.3848 - val_loss: 0.3734\n",
            "Epoch 7/10\n",
            "5/5 [==============================] - 5s 1s/step - loss: 0.3592 - val_loss: 0.3489\n",
            "Epoch 8/10\n",
            "5/5 [==============================] - 3s 596ms/step - loss: 0.3353 - val_loss: 0.3258\n",
            "Epoch 9/10\n",
            "5/5 [==============================] - 3s 589ms/step - loss: 0.3127 - val_loss: 0.3041\n",
            "Epoch 10/10\n",
            "5/5 [==============================] - 3s 591ms/step - loss: 0.2917 - val_loss: 0.2839\n"
          ]
        }
      ]
    },
    {
      "cell_type": "code",
      "source": [
        "from pandas.core.frame import DataFrame\n",
        "#pred and error- model eval\n",
        "def eval_and_output(model,hist):\n",
        "  fig1 = plt.figure(0)\n",
        "  fig2 = plt.figure(1)\n",
        "  epoches=pd.DataFrame(hist)\n",
        "  plt.figure(0)\n",
        "  plt.plot(epoches)\n",
        "  plt.xlabel('epoch')\n",
        "  plt.ylabel('loss/rmse')\n",
        "  X_testS=tf.stack(X_test)\n",
        "  pred=model.predict(X_testS)\n",
        "  DataFrame(pred).to_csv('pred.csv')\n",
        "  avgE=round(np.mean(np.absolute(pred-y_test)),5)\n",
        "  rmse=round(np.sqrt(np.mean(np.absolute(pred-y_test)**2)),5)\n",
        "  error=pred-y_test\n",
        "  error=error.reshape(error.shape[0]*error.shape[1],1)\n",
        "  error_rate=abs(round((avgE/np.mean(pred)*100),5))\n",
        "  print('avg error: '+str(avgE))\n",
        "  print('rmse: '+str(rmse))\n",
        "  print('error_rate: '+str(error_rate)+'%')\n",
        "  value = {\n",
        "      \"average error\": avgE,\n",
        "      \"rmse\": rmse,\n",
        "      \"error rate(%)\": error_rate\n",
        "  }\n",
        "  with open('metrics.txt', 'w') as outfile:\n",
        "    outfile.write('avg error: '+str(avgE)+\"\\n\")\n",
        "    outfile.write('rmse: '+str(rmse)+\"\\n\")\n",
        "    outfile.write('error_rate: '+str(error_rate)+'%\\n')\n",
        "  with open('metrics.json', 'w') as outfile:\n",
        "    outfile.write(json.dumps(value))\n",
        "  plt.figure(1)\n",
        "  plt.hist(error, bins='auto')\n",
        "  plt.axvline(x=0.1,lw=1.3, color='g')\n",
        "  plt.axvline(x=-0.1, lw=1.3, color='g')\n",
        "  plt.title('error dist')\n",
        "  plt.xlabel('error')\n",
        "  plt.ylabel('count')\n",
        "  plt.tight_layout()\n",
        "  fig1 = plt.figure(0)\n",
        "  fig2 = plt.figure(1)\n",
        "  fig2.savefig('plot.png', dpi=100)\n"
      ],
      "metadata": {
        "id": "yqs2WT1p9-W9"
      },
      "execution_count": 90,
      "outputs": []
    },
    {
      "cell_type": "code",
      "source": [
        "eval_and_output(model, history.history)\n",
        "\n",
        "plt.legend()\n",
        "plt.show()"
      ],
      "metadata": {
        "colab": {
          "base_uri": "https://localhost:8080/",
          "height": 652
        },
        "id": "BxAwDo_tSiNm",
        "outputId": "9de52724-c351-4678-874b-396fe046a42a"
      },
      "execution_count": 91,
      "outputs": [
        {
          "output_type": "stream",
          "name": "stdout",
          "text": [
            "avg error: 0.10575\n",
            "rmse: 0.13617\n",
            "error_rate: 378.94317%\n"
          ]
        },
        {
          "output_type": "stream",
          "name": "stderr",
          "text": [
            "No handles with labels found to put in legend.\n"
          ]
        },
        {
          "output_type": "display_data",
          "data": {
            "text/plain": [
              "<Figure size 432x288 with 1 Axes>"
            ],
            "image/png": "[encoded data removed]"
          },
          "metadata": {}
        },
        {
          "output_type": "display_data",
          "data": {
            "text/plain": [
              "<Figure size 432x288 with 1 Axes>"
            ],
            "image/png": "[encoded data removed]"
          },
          "metadata": {}
        }
      ]
    },
    {
      "cell_type": "code",
      "source": [
        "#setup RL with a max of 10 states and defines score by increasing value of money+stockval\n"
      ],
      "metadata": {
        "id": "Yj5hintNodc0"
      },
      "execution_count": 75,
      "outputs": []
    },
    {
      "cell_type": "code",
      "source": [
        ""
      ],
      "metadata": {
        "id": "GdH6Gmgs5AYL"
      },
      "execution_count": 75,
      "outputs": []
    }
  ]
}